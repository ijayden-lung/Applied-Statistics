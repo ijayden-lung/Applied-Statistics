{
 "cells": [
  {
   "cell_type": "code",
   "execution_count": 1,
   "metadata": {},
   "outputs": [],
   "source": [
    "n = 100\n",
    "z = rnorm(n)\n",
    "epsilon = rnorm(n)\n",
    "delta = rnorm(n)\n",
    "x = 10*z + epsilon\n",
    "y = 10*z + delta"
   ]
  },
  {
   "cell_type": "code",
   "execution_count": 3,
   "metadata": {},
   "outputs": [
    {
     "data": {
      "text/html": [
       "<table>\n",
       "<caption>A matrix: 6 × 3 of type dbl</caption>\n",
       "<thead>\n",
       "\t<tr><th scope=col>x</th><th scope=col>y</th><th scope=col>z</th></tr>\n",
       "</thead>\n",
       "<tbody>\n",
       "\t<tr><td>  6.439138</td><td>  7.000313</td><td> 0.7686152</td></tr>\n",
       "\t<tr><td>  3.005654</td><td>  3.604379</td><td> 0.4828414</td></tr>\n",
       "\t<tr><td>  1.528523</td><td>  2.554331</td><td> 0.1671311</td></tr>\n",
       "\t<tr><td>-12.034939</td><td>-14.304117</td><td>-1.3966699</td></tr>\n",
       "\t<tr><td> 15.209240</td><td> 15.286289</td><td> 1.5143661</td></tr>\n",
       "\t<tr><td> -4.126943</td><td> -3.400246</td><td>-0.4187940</td></tr>\n",
       "</tbody>\n",
       "</table>\n"
      ],
      "text/latex": [
       "A matrix: 6 × 3 of type dbl\n",
       "\\begin{tabular}{lll}\n",
       " x & y & z\\\\\n",
       "\\hline\n",
       "\t   6.439138 &   7.000313 &  0.7686152\\\\\n",
       "\t   3.005654 &   3.604379 &  0.4828414\\\\\n",
       "\t   1.528523 &   2.554331 &  0.1671311\\\\\n",
       "\t -12.034939 & -14.304117 & -1.3966699\\\\\n",
       "\t  15.209240 &  15.286289 &  1.5143661\\\\\n",
       "\t  -4.126943 &  -3.400246 & -0.4187940\\\\\n",
       "\\end{tabular}\n"
      ],
      "text/markdown": [
       "\n",
       "A matrix: 6 × 3 of type dbl\n",
       "\n",
       "| x | y | z |\n",
       "|---|---|---|\n",
       "|   6.439138 |   7.000313 |  0.7686152 |\n",
       "|   3.005654 |   3.604379 |  0.4828414 |\n",
       "|   1.528523 |   2.554331 |  0.1671311 |\n",
       "| -12.034939 | -14.304117 | -1.3966699 |\n",
       "|  15.209240 |  15.286289 |  1.5143661 |\n",
       "|  -4.126943 |  -3.400246 | -0.4187940 |\n",
       "\n"
      ],
      "text/plain": [
       "     x          y          z         \n",
       "[1,]   6.439138   7.000313  0.7686152\n",
       "[2,]   3.005654   3.604379  0.4828414\n",
       "[3,]   1.528523   2.554331  0.1671311\n",
       "[4,] -12.034939 -14.304117 -1.3966699\n",
       "[5,]  15.209240  15.286289  1.5143661\n",
       "[6,]  -4.126943  -3.400246 -0.4187940"
      ]
     },
     "metadata": {},
     "output_type": "display_data"
    }
   ],
   "source": [
    "W = cbind(x,y,z)\n",
    "head(W)"
   ]
  },
  {
   "cell_type": "code",
   "execution_count": 4,
   "metadata": {},
   "outputs": [
    {
     "data": {
      "text/html": [
       "<table>\n",
       "<caption>A matrix: 3 × 3 of type dbl</caption>\n",
       "<thead>\n",
       "\t<tr><th></th><th scope=col>x</th><th scope=col>y</th><th scope=col>z</th></tr>\n",
       "</thead>\n",
       "<tbody>\n",
       "\t<tr><th scope=row>x</th><td>108.15963</td><td>107.18089</td><td>10.823628</td></tr>\n",
       "\t<tr><th scope=row>y</th><td>107.18089</td><td>108.12875</td><td>10.837006</td></tr>\n",
       "\t<tr><th scope=row>z</th><td> 10.82363</td><td> 10.83701</td><td> 1.094452</td></tr>\n",
       "</tbody>\n",
       "</table>\n"
      ],
      "text/latex": [
       "A matrix: 3 × 3 of type dbl\n",
       "\\begin{tabular}{r|lll}\n",
       "  & x & y & z\\\\\n",
       "\\hline\n",
       "\tx & 108.15963 & 107.18089 & 10.823628\\\\\n",
       "\ty & 107.18089 & 108.12875 & 10.837006\\\\\n",
       "\tz &  10.82363 &  10.83701 &  1.094452\\\\\n",
       "\\end{tabular}\n"
      ],
      "text/markdown": [
       "\n",
       "A matrix: 3 × 3 of type dbl\n",
       "\n",
       "| <!--/--> | x | y | z |\n",
       "|---|---|---|---|\n",
       "| x | 108.15963 | 107.18089 | 10.823628 |\n",
       "| y | 107.18089 | 108.12875 | 10.837006 |\n",
       "| z |  10.82363 |  10.83701 |  1.094452 |\n",
       "\n"
      ],
      "text/plain": [
       "  x         y         z        \n",
       "x 108.15963 107.18089 10.823628\n",
       "y 107.18089 108.12875 10.837006\n",
       "z  10.82363  10.83701  1.094452"
      ]
     },
     "metadata": {},
     "output_type": "display_data"
    }
   ],
   "source": [
    "(sigma = cov(W))"
   ]
  },
  {
   "cell_type": "code",
   "execution_count": 5,
   "metadata": {},
   "outputs": [
    {
     "data": {
      "text/html": [
       "<table>\n",
       "<caption>A matrix: 3 × 3 of type dbl</caption>\n",
       "<thead>\n",
       "\t<tr><th></th><th scope=col>x</th><th scope=col>y</th><th scope=col>z</th></tr>\n",
       "</thead>\n",
       "<tbody>\n",
       "\t<tr><th scope=row>x</th><td> 0.893827373</td><td> -0.008491838</td><td> -8.755462</td></tr>\n",
       "\t<tr><th scope=row>y</th><td>-0.008491838</td><td>  1.214838710</td><td>-11.945072</td></tr>\n",
       "\t<tr><th scope=row>z</th><td>-8.755462451</td><td>-11.945072140</td><td>205.778594</td></tr>\n",
       "</tbody>\n",
       "</table>\n"
      ],
      "text/latex": [
       "A matrix: 3 × 3 of type dbl\n",
       "\\begin{tabular}{r|lll}\n",
       "  & x & y & z\\\\\n",
       "\\hline\n",
       "\tx &  0.893827373 &  -0.008491838 &  -8.755462\\\\\n",
       "\ty & -0.008491838 &   1.214838710 & -11.945072\\\\\n",
       "\tz & -8.755462451 & -11.945072140 & 205.778594\\\\\n",
       "\\end{tabular}\n"
      ],
      "text/markdown": [
       "\n",
       "A matrix: 3 × 3 of type dbl\n",
       "\n",
       "| <!--/--> | x | y | z |\n",
       "|---|---|---|---|\n",
       "| x |  0.893827373 |  -0.008491838 |  -8.755462 |\n",
       "| y | -0.008491838 |   1.214838710 | -11.945072 |\n",
       "| z | -8.755462451 | -11.945072140 | 205.778594 |\n",
       "\n"
      ],
      "text/plain": [
       "  x            y             z         \n",
       "x  0.893827373  -0.008491838  -8.755462\n",
       "y -0.008491838   1.214838710 -11.945072\n",
       "z -8.755462451 -11.945072140 205.778594"
      ]
     },
     "metadata": {},
     "output_type": "display_data"
    }
   ],
   "source": [
    "(omega <- solve(sigma))"
   ]
  },
  {
   "cell_type": "code",
   "execution_count": 6,
   "metadata": {},
   "outputs": [
    {
     "data": {
      "text/html": [
       "0.00814921146532424"
      ],
      "text/latex": [
       "0.00814921146532424"
      ],
      "text/markdown": [
       "0.00814921146532424"
      ],
      "text/plain": [
       "[1] 0.008149211"
      ]
     },
     "metadata": {},
     "output_type": "display_data"
    }
   ],
   "source": [
    "(theta_hat = -omega[1,2]/sqrt(omega[1,1]*omega[2,2]))"
   ]
  },
  {
   "cell_type": "code",
   "execution_count": 16,
   "metadata": {},
   "outputs": [],
   "source": [
    "partial_correlation = function(x,y,z){\n",
    "    W = cbind(x,y,z)\n",
    "    sigma= cov(W)\n",
    "    omega = solve(sigma)\n",
    "    theta_hat = -omega[1,2]/sqrt(omega[1,1]*omega[2,2])\n",
    "    return(theta_hat)\n",
    "    \n",
    "}"
   ]
  },
  {
   "cell_type": "code",
   "execution_count": 77,
   "metadata": {},
   "outputs": [],
   "source": [
    "B = 1000\n",
    "Tboot = rep(0,B)\n",
    "for (i in 1:B){\n",
    "    #xx = sample(x,n,replace=TRUE)\n",
    "    #yy = sample(y,n,replace=TRUE)\n",
    "    #zz = sample(z,n,replace=TRUE)\n",
    "    index <- sample(1:n,n,replace=TRUE)\n",
    "    xx = x[index]\n",
    "    yy = y[index]\n",
    "    zz = z[index]\n",
    "    \n",
    "    Tboot[i] = partial_correlation(xx,yy,zz)\n",
    "    }"
   ]
  },
  {
   "cell_type": "code",
   "execution_count": 78,
   "metadata": {},
   "outputs": [
    {
     "data": {
      "text/html": [
       "0.0941968725513588"
      ],
      "text/latex": [
       "0.0941968725513588"
      ],
      "text/markdown": [
       "0.0941968725513588"
      ],
      "text/plain": [
       "[1] 0.09419687"
      ]
     },
     "metadata": {},
     "output_type": "display_data"
    }
   ],
   "source": [
    "(se <- sqrt(var(Tboot)))"
   ]
  },
  {
   "cell_type": "code",
   "execution_count": 79,
   "metadata": {},
   "outputs": [],
   "source": [
    "Normal = c(theta_hat+se*qnorm(0.025),theta_hat+se*qnorm(0.975))\n",
    "Percentile = c(quantile(Tboot,0.025),quantile(Tboot,0.975))\n",
    "Pivoat = c(2*theta_hat-quantile(Tboot,0.975),2*theta_hat-quantile(Tboot,0.025))"
   ]
  },
  {
   "cell_type": "code",
   "execution_count": 82,
   "metadata": {},
   "outputs": [
    {
     "data": {
      "text/html": [
       "<style>\n",
       ".list-inline {list-style: none; margin:0; padding: 0}\n",
       ".list-inline>li {display: inline-block}\n",
       ".list-inline>li:not(:last-child)::after {content: \"\\00b7\"; padding: 0 .5ex}\n",
       "</style>\n",
       "<ol class=list-inline><li>-0.176473266191649</li><li>0.192771689122297</li></ol>\n"
      ],
      "text/latex": [
       "\\begin{enumerate*}\n",
       "\\item -0.176473266191649\n",
       "\\item 0.192771689122297\n",
       "\\end{enumerate*}\n"
      ],
      "text/markdown": [
       "1. -0.176473266191649\n",
       "2. 0.192771689122297\n",
       "\n",
       "\n"
      ],
      "text/plain": [
       "[1] -0.1764733  0.1927717"
      ]
     },
     "metadata": {},
     "output_type": "display_data"
    },
    {
     "data": {
      "text/html": [
       "<style>\n",
       ".dl-inline {width: auto; margin:0; padding: 0}\n",
       ".dl-inline>dt, .dl-inline>dd {float: none; width: auto; display: inline-block}\n",
       ".dl-inline>dt::after {content: \":\\0020\"; padding-right: .5ex}\n",
       ".dl-inline>dt:not(:first-of-type) {padding-left: .5ex}\n",
       "</style><dl class=dl-inline><dt>2.5%</dt><dd>-0.169707888738866</dd><dt>97.5%</dt><dd>0.191418431683318</dd></dl>\n"
      ],
      "text/latex": [
       "\\begin{description*}\n",
       "\\item[2.5\\textbackslash{}\\%] -0.169707888738866\n",
       "\\item[97.5\\textbackslash{}\\%] 0.191418431683318\n",
       "\\end{description*}\n"
      ],
      "text/markdown": [
       "2.5%\n",
       ":   -0.16970788873886697.5%\n",
       ":   0.191418431683318\n",
       "\n"
      ],
      "text/plain": [
       "      2.5%      97.5% \n",
       "-0.1697079  0.1914184 "
      ]
     },
     "metadata": {},
     "output_type": "display_data"
    },
    {
     "data": {
      "text/html": [
       "<style>\n",
       ".dl-inline {width: auto; margin:0; padding: 0}\n",
       ".dl-inline>dt, .dl-inline>dd {float: none; width: auto; display: inline-block}\n",
       ".dl-inline>dt::after {content: \":\\0020\"; padding-right: .5ex}\n",
       ".dl-inline>dt:not(:first-of-type) {padding-left: .5ex}\n",
       "</style><dl class=dl-inline><dt>97.5%</dt><dd>-0.175120008752669</dd><dt>2.5%</dt><dd>0.186006311669514</dd></dl>\n"
      ],
      "text/latex": [
       "\\begin{description*}\n",
       "\\item[97.5\\textbackslash{}\\%] -0.175120008752669\n",
       "\\item[2.5\\textbackslash{}\\%] 0.186006311669514\n",
       "\\end{description*}\n"
      ],
      "text/markdown": [
       "97.5%\n",
       ":   -0.1751200087526692.5%\n",
       ":   0.186006311669514\n",
       "\n"
      ],
      "text/plain": [
       "     97.5%       2.5% \n",
       "-0.1751200  0.1860063 "
      ]
     },
     "metadata": {},
     "output_type": "display_data"
    }
   ],
   "source": [
    "######95% interval\n",
    "Normal\n",
    "Percentile\n",
    "Pivoat"
   ]
  },
  {
   "cell_type": "code",
   "execution_count": 90,
   "metadata": {},
   "outputs": [
    {
     "data": {
      "text/html": [
       "0.0154216237926178"
      ],
      "text/latex": [
       "0.0154216237926178"
      ],
      "text/markdown": [
       "0.0154216237926178"
      ],
      "text/plain": [
       "[1] 0.01542162"
      ]
     },
     "metadata": {},
     "output_type": "display_data"
    },
    {
     "data": {
      "text/html": [
       "0.0333333333333333"
      ],
      "text/latex": [
       "0.0333333333333333"
      ],
      "text/markdown": [
       "0.0333333333333333"
      ],
      "text/plain": [
       "[1] 0.03333333"
      ]
     },
     "metadata": {},
     "output_type": "display_data"
    }
   ],
   "source": [
    "a = 1\n",
    "b = 3\n",
    "n = 10\n",
    "tau = (a+b)/2\n",
    "B = 10000\n",
    "tau.hat = rep(0,B)\n",
    "for (i in 1:B){\n",
    "    x = runif(n, a, b)\n",
    "    tau.hat[i] = (min(x) + max(x))/2 }\n",
    "\n",
    "MSE.tau.hat = (mean(tau.hat) - tau)^2 + var(tau.hat) \n",
    "MSE.tau.tilde = (b-a)^2/(12*n)\n",
    "(MSE.tau.hat)\n",
    "(MSE.tau.tilde)\n"
   ]
  },
  {
   "cell_type": "raw",
   "metadata": {},
   "source": [
    "MSE_tau.hat < MSE.tau.tilde, MSE of MLE is better"
   ]
  },
  {
   "cell_type": "code",
   "execution_count": 100,
   "metadata": {},
   "outputs": [
    {
     "data": {
      "image/png": "[encoded data removed]",
      "text/plain": [
       "plot without title"
      ]
     },
     "metadata": {
      "image/png": {
       "height": 420,
       "width": 420
      }
     },
     "output_type": "display_data"
    }
   ],
   "source": [
    "n = seq(2,100,1)\n",
    "quotient = (n*(n-1))*(gamma((n-1)/2))^2/(gamma(n/2))^2-2*n\n",
    "plot(n,quotient,type='l')                          "
   ]
  },
  {
   "cell_type": "code",
   "execution_count": 103,
   "metadata": {},
   "outputs": [
    {
     "data": {
      "text/html": [
       "NaN"
      ],
      "text/latex": [
       "NaN"
      ],
      "text/markdown": [
       "NaN"
      ],
      "text/plain": [
       "[1] NaN"
      ]
     },
     "metadata": {},
     "output_type": "display_data"
    }
   ],
   "source": [
    "n=199\n",
    "n*(n-1)*(gamma((n-1)/2))^2/(gamma(n/2))^2-2*n"
   ]
  },
  {
   "cell_type": "code",
   "execution_count": 116,
   "metadata": {},
   "outputs": [
    {
     "data": {
      "text/html": [
       "0.0315"
      ],
      "text/latex": [
       "0.0315"
      ],
      "text/markdown": [
       "0.0315"
      ],
      "text/plain": [
       "[1] 0.0315"
      ]
     },
     "metadata": {},
     "output_type": "display_data"
    }
   ],
   "source": [
    "Twain = c(.225,.262, .217, .240, .230, .229, .235, .217)\n",
    "Snodgrass = c(.209, .205, .196, .210, .202, .207, .224, .223, .220, .201)"
   ]
  },
  {
   "cell_type": "code",
   "execution_count": 135,
   "metadata": {},
   "outputs": [],
   "source": [
    "# u1: means of Twain essays\n",
    "# u2: means of Snodgrass essays\n",
    "# delta = u1-u2\n",
    "###H0: delta=0, H1: delta != 0"
   ]
  },
  {
   "cell_type": "code",
   "execution_count": 122,
   "metadata": {},
   "outputs": [
    {
     "data": {
      "text/html": [
       "<style>\n",
       ".list-inline {list-style: none; margin:0; padding: 0}\n",
       ".list-inline>li {display: inline-block}\n",
       ".list-inline>li:not(:last-child)::after {content: \"\\00b7\"; padding: 0 .5ex}\n",
       "</style>\n",
       "<ol class=list-inline><li>0.0120757913408674</li><li>0.0322742086591326</li></ol>\n"
      ],
      "text/latex": [
       "\\begin{enumerate*}\n",
       "\\item 0.0120757913408674\n",
       "\\item 0.0322742086591326\n",
       "\\end{enumerate*}\n"
      ],
      "text/markdown": [
       "1. 0.0120757913408674\n",
       "2. 0.0322742086591326\n",
       "\n",
       "\n"
      ],
      "text/plain": [
       "[1] 0.01207579 0.03227421"
      ]
     },
     "metadata": {},
     "output_type": "display_data"
    }
   ],
   "source": [
    "####Wald Test\n",
    "B = 1000\n",
    "n=10\n",
    "delta = mean(Twain)-mean(Snodgrass)\n",
    "Tboot = rep(0,B)\n",
    "for (i in 1:B){\n",
    "    T = sample(Twain,n,replace=TRUE)\n",
    "    S = sample(Snodgrass,n,replace=TRUE)\n",
    "    Tboot[i] = mean(T)-mean(S)\n",
    "}\n",
    "se.hat <- sqrt(var(Tboot))\n",
    "######95% interval of dealta\n",
    "(CI.delta = c(delta+qnorm(0.025)*se.hat,delta-qnorm(0.025)*se.hat))"
   ]
  },
  {
   "cell_type": "code",
   "execution_count": 128,
   "metadata": {},
   "outputs": [
    {
     "data": {
      "text/html": [
       "0.982308359796293"
      ],
      "text/latex": [
       "0.982308359796293"
      ],
      "text/markdown": [
       "0.982308359796293"
      ],
      "text/plain": [
       "[1] 0.9823084"
      ]
     },
     "metadata": {},
     "output_type": "display_data"
    }
   ],
   "source": [
    "W = delta-0/se.hat\n",
    "#####p-value is\n",
    "(pvalue = 2*pnorm(-W))"
   ]
  },
  {
   "cell_type": "raw",
   "metadata": {},
   "source": [
    "The p-value is 0.98, which shows no evidence to reject the null hypothesis even though the 95% condence interval do not inclued 0. We say there is no difference between the means."
   ]
  },
  {
   "cell_type": "code",
   "execution_count": 151,
   "metadata": {},
   "outputs": [
    {
     "data": {
      "text/html": [
       "6e-04"
      ],
      "text/latex": [
       "6e-04"
      ],
      "text/markdown": [
       "6e-04"
      ],
      "text/plain": [
       "[1] 6e-04"
      ]
     },
     "metadata": {},
     "output_type": "display_data"
    }
   ],
   "source": [
    "####Permutation test\n",
    "t_obs = abs(mean(Twain)-mean(Snodgrass))\n",
    "T = c(Twain,Snodgrass)\n",
    "B = 10000\n",
    "Sum = 0\n",
    "for (i in 1:B){\n",
    "    T_permu = sample(T,18,replace=FALSE)\n",
    "    Ti = abs(mean(T_permu[1:8])-mean(T_permu[9:18]))\n",
    "    if(Ti>t_obs){\n",
    "        Sum = Sum+1\n",
    "    }\n",
    "}\n",
    "####p-value is \n",
    "(pvalue = Sum/B)"
   ]
  },
  {
   "cell_type": "raw",
   "metadata": {},
   "source": [
    "The p-value is 0.0006, which is strong engouh to reject the null hypothesis and we draw a conclusion that the two means is not equal. \n",
    "\n",
    "The difference p-value between Wald test and permutation test shows that when n is small, the Wald test is not powerful, we should use t-test when n is small."
   ]
  },
  {
   "cell_type": "code",
   "execution_count": 152,
   "metadata": {},
   "outputs": [
    {
     "data": {
      "text/plain": [
       "\n",
       "\tWelch Two Sample t-test\n",
       "\n",
       "data:  Twain and Snodgrass\n",
       "t = 3.7036, df = 11.671, p-value = 0.003156\n",
       "alternative hypothesis: true difference in means is not equal to 0\n",
       "95 percent confidence interval:\n",
       " 0.009088475 0.035261525\n",
       "sample estimates:\n",
       "mean of x mean of y \n",
       " 0.231875  0.209700 \n"
      ]
     },
     "metadata": {},
     "output_type": "display_data"
    }
   ],
   "source": [
    "t.test(Twain,Snodgrass) "
   ]
  },
  {
   "cell_type": "code",
   "execution_count": 187,
   "metadata": {},
   "outputs": [],
   "source": [
    "Posterior = function(x,n,b){\n",
    "    u = sqrt(n*b^2+1)\n",
    "    w = exp(b^2*n^2*x^2/2/u)/u\n",
    "    prob = 1/(1+w)\n",
    "    return(prob)\n",
    "}\n",
    "\n",
    "pvalue = function(x,n){\n",
    "    pval = 2*pnorm(-sqrt(n)*abs(x))\n",
    "    return(pval)\n",
    "}\n"
   ]
  },
  {
   "cell_type": "code",
   "execution_count": 178,
   "metadata": {},
   "outputs": [],
   "source": [
    "#we let \n",
    "n= 100"
   ]
  },
  {
   "cell_type": "code",
   "execution_count": 179,
   "metadata": {},
   "outputs": [
    {
     "data": {
      "text/html": [
       "8.56209788491533e-216"
      ],
      "text/latex": [
       "8.56209788491533e-216"
      ],
      "text/markdown": [
       "8.56209788491533e-216"
      ],
      "text/plain": [
       "[1] 8.562098e-216"
      ]
     },
     "metadata": {},
     "output_type": "display_data"
    }
   ],
   "source": [
    "(Posterior(1,n,1))"
   ]
  },
  {
   "cell_type": "code",
   "execution_count": 181,
   "metadata": {},
   "outputs": [
    {
     "data": {
      "text/html": [
       "6.25009097009339e-16"
      ],
      "text/latex": [
       "6.25009097009339e-16"
      ],
      "text/markdown": [
       "6.25009097009339e-16"
      ],
      "text/plain": [
       "[1] 6.250091e-16"
      ]
     },
     "metadata": {},
     "output_type": "display_data"
    }
   ],
   "source": [
    "(Posterior(1,n,0.1))"
   ]
  },
  {
   "cell_type": "code",
   "execution_count": 182,
   "metadata": {},
   "outputs": [
    {
     "data": {
      "text/html": [
       "0.379294583924062"
      ],
      "text/latex": [
       "0.379294583924062"
      ],
      "text/markdown": [
       "0.379294583924062"
      ],
      "text/plain": [
       "[1] 0.3792946"
      ]
     },
     "metadata": {},
     "output_type": "display_data"
    }
   ],
   "source": [
    "(Posterior(1,n,0.01))"
   ]
  },
  {
   "cell_type": "code",
   "execution_count": 188,
   "metadata": {},
   "outputs": [
    {
     "data": {
      "text/html": [
       "1.52397060483211e-23"
      ],
      "text/latex": [
       "1.52397060483211e-23"
      ],
      "text/markdown": [
       "1.52397060483211e-23"
      ],
      "text/plain": [
       "[1] 1.523971e-23"
      ]
     },
     "metadata": {},
     "output_type": "display_data"
    }
   ],
   "source": [
    "(pvalue(1,n))"
   ]
  },
  {
   "cell_type": "raw",
   "metadata": {},
   "source": [
    "When n is large, the p-value will be very small, However, when b is small, the posterior probability of H0 are large"
   ]
  },
  {
   "cell_type": "code",
   "execution_count": 190,
   "metadata": {},
   "outputs": [
    {
     "data": {
      "text/html": [
       "0.499999994868883"
      ],
      "text/latex": [
       "0.499999994868883"
      ],
      "text/markdown": [
       "0.499999994868883"
      ],
      "text/plain": [
       "[1] 0.5"
      ]
     },
     "metadata": {},
     "output_type": "display_data"
    }
   ],
   "source": [
    "(Posterior(0.1,n,0.01))"
   ]
  },
  {
   "cell_type": "code",
   "execution_count": 194,
   "metadata": {},
   "outputs": [
    {
     "data": {
      "text/html": [
       "0.501231350902419"
      ],
      "text/latex": [
       "0.501231350902419"
      ],
      "text/markdown": [
       "0.501231350902419"
      ],
      "text/plain": [
       "[1] 0.5012314"
      ]
     },
     "metadata": {},
     "output_type": "display_data"
    }
   ],
   "source": [
    "(Posterior(0.01,n,0.01))"
   ]
  },
  {
   "cell_type": "code",
   "execution_count": 193,
   "metadata": {},
   "outputs": [
    {
     "data": {
      "text/html": [
       "0.501243664412218"
      ],
      "text/latex": [
       "0.501243664412218"
      ],
      "text/markdown": [
       "0.501243664412218"
      ],
      "text/plain": [
       "[1] 0.5012437"
      ]
     },
     "metadata": {},
     "output_type": "display_data"
    }
   ],
   "source": [
    "(Posterior(-0.01,n,0.01))"
   ]
  },
  {
   "cell_type": "code",
   "execution_count": 195,
   "metadata": {},
   "outputs": [
    {
     "data": {
      "text/html": [
       "0.499999994868883"
      ],
      "text/latex": [
       "0.499999994868883"
      ],
      "text/markdown": [
       "0.499999994868883"
      ],
      "text/plain": [
       "[1] 0.5"
      ]
     },
     "metadata": {},
     "output_type": "display_data"
    }
   ],
   "source": [
    "(Posterior(-0.1,n,0.01))"
   ]
  },
  {
   "cell_type": "code",
   "execution_count": 196,
   "metadata": {},
   "outputs": [
    {
     "data": {
      "text/html": [
       "0.379294583924062"
      ],
      "text/latex": [
       "0.379294583924062"
      ],
      "text/markdown": [
       "0.379294583924062"
      ],
      "text/plain": [
       "[1] 0.3792946"
      ]
     },
     "metadata": {},
     "output_type": "display_data"
    }
   ],
   "source": [
    "(Posterior(-1,n,0.01))"
   ]
  },
  {
   "cell_type": "code",
   "execution_count": 197,
   "metadata": {},
   "outputs": [
    {
     "data": {
      "text/html": [
       "0.920344325445942"
      ],
      "text/latex": [
       "0.920344325445942"
      ],
      "text/markdown": [
       "0.920344325445942"
      ],
      "text/plain": [
       "[1] 0.9203443"
      ]
     },
     "metadata": {},
     "output_type": "display_data"
    }
   ],
   "source": [
    "(pvalue(0.01,n))"
   ]
  },
  {
   "cell_type": "code",
   "execution_count": 198,
   "metadata": {},
   "outputs": [
    {
     "data": {
      "text/html": [
       "0.317310507862914"
      ],
      "text/latex": [
       "0.317310507862914"
      ],
      "text/markdown": [
       "0.317310507862914"
      ],
      "text/plain": [
       "[1] 0.3173105"
      ]
     },
     "metadata": {},
     "output_type": "display_data"
    }
   ],
   "source": [
    "(pvalue(0.1,n))"
   ]
  },
  {
   "cell_type": "raw",
   "metadata": {},
   "source": [
    "As x_bar close to μ (0 in this case), both the posterior probability of H0 and pvalue increase.\n",
    "In all, when x_bar is far away from μ, and b is small, n is large. the p-value will be very small while the posterior probability of H0 are large"
   ]
  }
 ],
 "metadata": {
  "kernelspec": {
   "display_name": "R",
   "language": "R",
   "name": "ir"
  },
  "language_info": {
   "codemirror_mode": "r",
   "file_extension": ".r",
   "mimetype": "text/x-r-source",
   "name": "R",
   "pygments_lexer": "r",
   "version": "3.6.3"
  }
 },
 "nbformat": 4,
 "nbformat_minor": 4
}
