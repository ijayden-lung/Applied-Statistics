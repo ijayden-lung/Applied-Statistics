{
 "cells": [
  {
   "cell_type": "code",
   "execution_count": 2,
   "metadata": {},
   "outputs": [
    {
     "name": "stdout",
     "output_type": "stream",
     "text": [
      "'data.frame':\t10 obs. of  3 variables:\n",
      " $ sand: int  6 10 8 6 14 17 9 11 7 11\n",
      " $ clay: int  17 15 3 11 14 12 12 8 10 13\n",
      " $ loam: int  13 16 9 12 15 16 17 13 18 14\n"
     ]
    },
    {
     "data": {
      "text/html": [
       "<table>\n",
       "<caption>A data.frame: 4 × 3</caption>\n",
       "<thead>\n",
       "\t<tr><th></th><th scope=col>sand</th><th scope=col>clay</th><th scope=col>loam</th></tr>\n",
       "\t<tr><th></th><th scope=col>&lt;int&gt;</th><th scope=col>&lt;int&gt;</th><th scope=col>&lt;int&gt;</th></tr>\n",
       "</thead>\n",
       "<tbody>\n",
       "\t<tr><th scope=row>1</th><td> 6</td><td>17</td><td>13</td></tr>\n",
       "\t<tr><th scope=row>2</th><td>10</td><td>15</td><td>16</td></tr>\n",
       "\t<tr><th scope=row>3</th><td> 8</td><td> 3</td><td> 9</td></tr>\n",
       "\t<tr><th scope=row>4</th><td> 6</td><td>11</td><td>12</td></tr>\n",
       "</tbody>\n",
       "</table>\n"
      ],
      "text/latex": [
       "A data.frame: 4 × 3\n",
       "\\begin{tabular}{r|lll}\n",
       "  & sand & clay & loam\\\\\n",
       "  & <int> & <int> & <int>\\\\\n",
       "\\hline\n",
       "\t1 &  6 & 17 & 13\\\\\n",
       "\t2 & 10 & 15 & 16\\\\\n",
       "\t3 &  8 &  3 &  9\\\\\n",
       "\t4 &  6 & 11 & 12\\\\\n",
       "\\end{tabular}\n"
      ],
      "text/markdown": [
       "\n",
       "A data.frame: 4 × 3\n",
       "\n",
       "| <!--/--> | sand &lt;int&gt; | clay &lt;int&gt; | loam &lt;int&gt; |\n",
       "|---|---|---|---|\n",
       "| 1 |  6 | 17 | 13 |\n",
       "| 2 | 10 | 15 | 16 |\n",
       "| 3 |  8 |  3 |  9 |\n",
       "| 4 |  6 | 11 | 12 |\n",
       "\n"
      ],
      "text/plain": [
       "  sand clay loam\n",
       "1  6   17   13  \n",
       "2 10   15   16  \n",
       "3  8    3    9  \n",
       "4  6   11   12  "
      ]
     },
     "metadata": {},
     "output_type": "display_data"
    }
   ],
   "source": [
    "## | Analysis of Variance  \n",
    "\n",
    "\n",
    "## A Worked-Out Example\n",
    "results <- read.table('yields(1).txt',header=T)\n",
    "attach(results)\n",
    "str(results)\n",
    "head(results, n=4)"
   ]
  },
  {
   "cell_type": "code",
   "execution_count": 3,
   "metadata": {},
   "outputs": [
    {
     "data": {
      "text/html": [
       "<style>\n",
       ".dl-inline {width: auto; margin:0; padding: 0}\n",
       ".dl-inline>dt, .dl-inline>dd {float: none; width: auto; display: inline-block}\n",
       ".dl-inline>dt::after {content: \":\\0020\"; padding-right: .5ex}\n",
       ".dl-inline>dt:not(:first-of-type) {padding-left: .5ex}\n",
       "</style><dl class=dl-inline><dt>sand</dt><dd>9.9</dd><dt>clay</dt><dd>11.5</dd><dt>loam</dt><dd>14.3</dd></dl>\n"
      ],
      "text/latex": [
       "\\begin{description*}\n",
       "\\item[sand] 9.9\n",
       "\\item[clay] 11.5\n",
       "\\item[loam] 14.3\n",
       "\\end{description*}\n"
      ],
      "text/markdown": [
       "sand\n",
       ":   9.9clay\n",
       ":   11.5loam\n",
       ":   14.3\n",
       "\n"
      ],
      "text/plain": [
       "sand clay loam \n",
       " 9.9 11.5 14.3 "
      ]
     },
     "metadata": {},
     "output_type": "display_data"
    },
    {
     "data": {
      "text/html": [
       "<style>\n",
       ".list-inline {list-style: none; margin:0; padding: 0}\n",
       ".list-inline>li {display: inline-block}\n",
       ".list-inline>li:not(:last-child)::after {content: \"\\00b7\"; padding: 0 .5ex}\n",
       "</style>\n",
       "<ol class=list-inline><li>9.9</li><li>11.5</li><li>14.3</li></ol>\n"
      ],
      "text/latex": [
       "\\begin{enumerate*}\n",
       "\\item 9.9\n",
       "\\item 11.5\n",
       "\\item 14.3\n",
       "\\end{enumerate*}\n"
      ],
      "text/markdown": [
       "1. 9.9\n",
       "2. 11.5\n",
       "3. 14.3\n",
       "\n",
       "\n"
      ],
      "text/plain": [
       "[1]  9.9 11.5 14.3"
      ]
     },
     "metadata": {},
     "output_type": "display_data"
    }
   ],
   "source": [
    "apply(results, 2, mean)\n",
    "# Another possibility\n",
    "sapply(list(sand,clay,loam),mean)"
   ]
  },
  {
   "cell_type": "code",
   "execution_count": 5,
   "metadata": {},
   "outputs": [
    {
     "name": "stdout",
     "output_type": "stream",
     "text": [
      "'data.frame':\t30 obs. of  2 variables:\n",
      " $ values: int  6 10 8 6 14 17 9 11 7 11 ...\n",
      " $ ind   : Factor w/ 3 levels \"sand\",\"clay\",..: 1 1 1 1 1 1 1 1 1 1 ...\n"
     ]
    },
    {
     "data": {
      "text/html": [
       "<table>\n",
       "<caption>A data.frame: 6 × 2</caption>\n",
       "<thead>\n",
       "\t<tr><th></th><th scope=col>values</th><th scope=col>ind</th></tr>\n",
       "\t<tr><th></th><th scope=col>&lt;int&gt;</th><th scope=col>&lt;fct&gt;</th></tr>\n",
       "</thead>\n",
       "<tbody>\n",
       "\t<tr><th scope=row>1</th><td> 6</td><td>sand</td></tr>\n",
       "\t<tr><th scope=row>2</th><td>10</td><td>sand</td></tr>\n",
       "\t<tr><th scope=row>3</th><td> 8</td><td>sand</td></tr>\n",
       "\t<tr><th scope=row>4</th><td> 6</td><td>sand</td></tr>\n",
       "\t<tr><th scope=row>5</th><td>14</td><td>sand</td></tr>\n",
       "\t<tr><th scope=row>6</th><td>17</td><td>sand</td></tr>\n",
       "</tbody>\n",
       "</table>\n"
      ],
      "text/latex": [
       "A data.frame: 6 × 2\n",
       "\\begin{tabular}{r|ll}\n",
       "  & values & ind\\\\\n",
       "  & <int> & <fct>\\\\\n",
       "\\hline\n",
       "\t1 &  6 & sand\\\\\n",
       "\t2 & 10 & sand\\\\\n",
       "\t3 &  8 & sand\\\\\n",
       "\t4 &  6 & sand\\\\\n",
       "\t5 & 14 & sand\\\\\n",
       "\t6 & 17 & sand\\\\\n",
       "\\end{tabular}\n"
      ],
      "text/markdown": [
       "\n",
       "A data.frame: 6 × 2\n",
       "\n",
       "| <!--/--> | values &lt;int&gt; | ind &lt;fct&gt; |\n",
       "|---|---|---|\n",
       "| 1 |  6 | sand |\n",
       "| 2 | 10 | sand |\n",
       "| 3 |  8 | sand |\n",
       "| 4 |  6 | sand |\n",
       "| 5 | 14 | sand |\n",
       "| 6 | 17 | sand |\n",
       "\n"
      ],
      "text/plain": [
       "  values ind \n",
       "1  6     sand\n",
       "2 10     sand\n",
       "3  8     sand\n",
       "4  6     sand\n",
       "5 14     sand\n",
       "6 17     sand"
      ]
     },
     "metadata": {},
     "output_type": "display_data"
    }
   ],
   "source": [
    "frame <- stack(results)\n",
    "str(frame)\n",
    "head(frame)"
   ]
  },
  {
   "cell_type": "code",
   "execution_count": 6,
   "metadata": {},
   "outputs": [
    {
     "data": {
      "text/html": [
       "<table>\n",
       "<caption>A data.frame: 6 × 2</caption>\n",
       "<thead>\n",
       "\t<tr><th></th><th scope=col>yield</th><th scope=col>soil</th></tr>\n",
       "\t<tr><th></th><th scope=col>&lt;int&gt;</th><th scope=col>&lt;fct&gt;</th></tr>\n",
       "</thead>\n",
       "<tbody>\n",
       "\t<tr><th scope=row>1</th><td> 6</td><td>sand</td></tr>\n",
       "\t<tr><th scope=row>2</th><td>10</td><td>sand</td></tr>\n",
       "\t<tr><th scope=row>3</th><td> 8</td><td>sand</td></tr>\n",
       "\t<tr><th scope=row>4</th><td> 6</td><td>sand</td></tr>\n",
       "\t<tr><th scope=row>5</th><td>14</td><td>sand</td></tr>\n",
       "\t<tr><th scope=row>6</th><td>17</td><td>sand</td></tr>\n",
       "</tbody>\n",
       "</table>\n"
      ],
      "text/latex": [
       "A data.frame: 6 × 2\n",
       "\\begin{tabular}{r|ll}\n",
       "  & yield & soil\\\\\n",
       "  & <int> & <fct>\\\\\n",
       "\\hline\n",
       "\t1 &  6 & sand\\\\\n",
       "\t2 & 10 & sand\\\\\n",
       "\t3 &  8 & sand\\\\\n",
       "\t4 &  6 & sand\\\\\n",
       "\t5 & 14 & sand\\\\\n",
       "\t6 & 17 & sand\\\\\n",
       "\\end{tabular}\n"
      ],
      "text/markdown": [
       "\n",
       "A data.frame: 6 × 2\n",
       "\n",
       "| <!--/--> | yield &lt;int&gt; | soil &lt;fct&gt; |\n",
       "|---|---|---|\n",
       "| 1 |  6 | sand |\n",
       "| 2 | 10 | sand |\n",
       "| 3 |  8 | sand |\n",
       "| 4 |  6 | sand |\n",
       "| 5 | 14 | sand |\n",
       "| 6 | 17 | sand |\n",
       "\n"
      ],
      "text/plain": [
       "  yield soil\n",
       "1  6    sand\n",
       "2 10    sand\n",
       "3  8    sand\n",
       "4  6    sand\n",
       "5 14    sand\n",
       "6 17    sand"
      ]
     },
     "metadata": {},
     "output_type": "display_data"
    }
   ],
   "source": [
    "names(frame) <- c('yield','soil')\n",
    "attach(frame)\n",
    "head(frame)"
   ]
  },
  {
   "cell_type": "code",
   "execution_count": 7,
   "metadata": {},
   "outputs": [
    {
     "data": {
      "image/png": "[encoded data removed]",
      "text/plain": [
       "plot without title"
      ]
     },
     "metadata": {
      "image/png": {
       "height": 420,
       "width": 420
      }
     },
     "output_type": "display_data"
    }
   ],
   "source": [
    "plot(yield~soil,col='lightblue3')"
   ]
  },
  {
   "cell_type": "code",
   "execution_count": 8,
   "metadata": {},
   "outputs": [
    {
     "data": {
      "text/html": [
       "414.7"
      ],
      "text/latex": [
       "414.7"
      ],
      "text/markdown": [
       "414.7"
      ],
      "text/plain": [
       "[1] 414.7"
      ]
     },
     "metadata": {},
     "output_type": "display_data"
    }
   ],
   "source": [
    "sum((yield-mean(yield))^2)"
   ]
  },
  {
   "cell_type": "code",
   "execution_count": 9,
   "metadata": {},
   "outputs": [
    {
     "data": {
      "text/html": [
       "<style>\n",
       ".list-inline {list-style: none; margin:0; padding: 0}\n",
       ".list-inline>li {display: inline-block}\n",
       ".list-inline>li:not(:last-child)::after {content: \"\\00b7\"; padding: 0 .5ex}\n",
       "</style>\n",
       "<ol class=list-inline><li>-3.9</li><li>0.0999999999999996</li><li>-1.9</li><li>-3.9</li><li>4.1</li><li>7.1</li><li>-0.9</li><li>1.1</li><li>-2.9</li><li>1.1</li></ol>\n"
      ],
      "text/latex": [
       "\\begin{enumerate*}\n",
       "\\item -3.9\n",
       "\\item 0.0999999999999996\n",
       "\\item -1.9\n",
       "\\item -3.9\n",
       "\\item 4.1\n",
       "\\item 7.1\n",
       "\\item -0.9\n",
       "\\item 1.1\n",
       "\\item -2.9\n",
       "\\item 1.1\n",
       "\\end{enumerate*}\n"
      ],
      "text/markdown": [
       "1. -3.9\n",
       "2. 0.0999999999999996\n",
       "3. -1.9\n",
       "4. -3.9\n",
       "5. 4.1\n",
       "6. 7.1\n",
       "7. -0.9\n",
       "8. 1.1\n",
       "9. -2.9\n",
       "10. 1.1\n",
       "\n",
       "\n"
      ],
      "text/plain": [
       " [1] -3.9  0.1 -1.9 -3.9  4.1  7.1 -0.9  1.1 -2.9  1.1"
      ]
     },
     "metadata": {},
     "output_type": "display_data"
    },
    {
     "data": {
      "text/html": [
       "<style>\n",
       ".list-inline {list-style: none; margin:0; padding: 0}\n",
       ".list-inline>li {display: inline-block}\n",
       ".list-inline>li:not(:last-child)::after {content: \"\\00b7\"; padding: 0 .5ex}\n",
       "</style>\n",
       "<ol class=list-inline><li>5.5</li><li>3.5</li><li>-8.5</li><li>-0.5</li><li>2.5</li><li>0.5</li><li>0.5</li><li>-3.5</li><li>-1.5</li><li>1.5</li></ol>\n"
      ],
      "text/latex": [
       "\\begin{enumerate*}\n",
       "\\item 5.5\n",
       "\\item 3.5\n",
       "\\item -8.5\n",
       "\\item -0.5\n",
       "\\item 2.5\n",
       "\\item 0.5\n",
       "\\item 0.5\n",
       "\\item -3.5\n",
       "\\item -1.5\n",
       "\\item 1.5\n",
       "\\end{enumerate*}\n"
      ],
      "text/markdown": [
       "1. 5.5\n",
       "2. 3.5\n",
       "3. -8.5\n",
       "4. -0.5\n",
       "5. 2.5\n",
       "6. 0.5\n",
       "7. 0.5\n",
       "8. -3.5\n",
       "9. -1.5\n",
       "10. 1.5\n",
       "\n",
       "\n"
      ],
      "text/plain": [
       " [1]  5.5  3.5 -8.5 -0.5  2.5  0.5  0.5 -3.5 -1.5  1.5"
      ]
     },
     "metadata": {},
     "output_type": "display_data"
    },
    {
     "data": {
      "text/html": [
       "<style>\n",
       ".list-inline {list-style: none; margin:0; padding: 0}\n",
       ".list-inline>li {display: inline-block}\n",
       ".list-inline>li:not(:last-child)::after {content: \"\\00b7\"; padding: 0 .5ex}\n",
       "</style>\n",
       "<ol class=list-inline><li>-1.3</li><li>1.7</li><li>-5.3</li><li>-2.3</li><li>0.699999999999999</li><li>1.7</li><li>2.7</li><li>-1.3</li><li>3.7</li><li>-0.300000000000001</li></ol>\n"
      ],
      "text/latex": [
       "\\begin{enumerate*}\n",
       "\\item -1.3\n",
       "\\item 1.7\n",
       "\\item -5.3\n",
       "\\item -2.3\n",
       "\\item 0.699999999999999\n",
       "\\item 1.7\n",
       "\\item 2.7\n",
       "\\item -1.3\n",
       "\\item 3.7\n",
       "\\item -0.300000000000001\n",
       "\\end{enumerate*}\n"
      ],
      "text/markdown": [
       "1. -1.3\n",
       "2. 1.7\n",
       "3. -5.3\n",
       "4. -2.3\n",
       "5. 0.699999999999999\n",
       "6. 1.7\n",
       "7. 2.7\n",
       "8. -1.3\n",
       "9. 3.7\n",
       "10. -0.300000000000001\n",
       "\n",
       "\n"
      ],
      "text/plain": [
       " [1] -1.3  1.7 -5.3 -2.3  0.7  1.7  2.7 -1.3  3.7 -0.3"
      ]
     },
     "metadata": {},
     "output_type": "display_data"
    }
   ],
   "source": [
    "sand-mean(sand)\n",
    "clay-mean(clay)\n",
    "loam-mean(loam)"
   ]
  },
  {
   "cell_type": "code",
   "execution_count": 10,
   "metadata": {},
   "outputs": [
    {
     "data": {
      "text/html": [
       "<style>\n",
       ".list-inline {list-style: none; margin:0; padding: 0}\n",
       ".list-inline>li {display: inline-block}\n",
       ".list-inline>li:not(:last-child)::after {content: \"\\00b7\"; padding: 0 .5ex}\n",
       "</style>\n",
       "<ol class=list-inline><li>112.9</li><li>138.5</li><li>64.1</li></ol>\n"
      ],
      "text/latex": [
       "\\begin{enumerate*}\n",
       "\\item 112.9\n",
       "\\item 138.5\n",
       "\\item 64.1\n",
       "\\end{enumerate*}\n"
      ],
      "text/markdown": [
       "1. 112.9\n",
       "2. 138.5\n",
       "3. 64.1\n",
       "\n",
       "\n"
      ],
      "text/plain": [
       "[1] 112.9 138.5  64.1"
      ]
     },
     "metadata": {},
     "output_type": "display_data"
    },
    {
     "data": {
      "text/html": [
       "315.5"
      ],
      "text/latex": [
       "315.5"
      ],
      "text/markdown": [
       "315.5"
      ],
      "text/plain": [
       "[1] 315.5"
      ]
     },
     "metadata": {},
     "output_type": "display_data"
    }
   ],
   "source": [
    "(sums.vec <- c(sum((sand-mean(sand))^2), sum((clay-mean(clay))^2),\n",
    "  sum((loam-mean(loam))^2)))\n",
    "sum(sums.vec)"
   ]
  },
  {
   "cell_type": "code",
   "execution_count": 11,
   "metadata": {},
   "outputs": [
    {
     "data": {
      "text/html": [
       "315.5"
      ],
      "text/latex": [
       "315.5"
      ],
      "text/markdown": [
       "315.5"
      ],
      "text/plain": [
       "[1] 315.5"
      ]
     },
     "metadata": {},
     "output_type": "display_data"
    }
   ],
   "source": [
    "\n",
    "sum(apply(results,2,\n",
    "           function (x) sum((x-mean(x))^2) ))"
   ]
  },
  {
   "cell_type": "code",
   "execution_count": 12,
   "metadata": {},
   "outputs": [
    {
     "data": {
      "text/html": [
       "<style>\n",
       ".dl-inline {width: auto; margin:0; padding: 0}\n",
       ".dl-inline>dt, .dl-inline>dd {float: none; width: auto; display: inline-block}\n",
       ".dl-inline>dt::after {content: \":\\0020\"; padding-right: .5ex}\n",
       ".dl-inline>dt:not(:first-of-type) {padding-left: .5ex}\n",
       "</style><dl class=dl-inline><dt>sand</dt><dd>112.9</dd><dt>clay</dt><dd>138.5</dd><dt>loam</dt><dd>64.1</dd></dl>\n"
      ],
      "text/latex": [
       "\\begin{description*}\n",
       "\\item[sand] 112.9\n",
       "\\item[clay] 138.5\n",
       "\\item[loam] 64.1\n",
       "\\end{description*}\n"
      ],
      "text/markdown": [
       "sand\n",
       ":   112.9clay\n",
       ":   138.5loam\n",
       ":   64.1\n",
       "\n"
      ],
      "text/plain": [
       " sand  clay  loam \n",
       "112.9 138.5  64.1 "
      ]
     },
     "metadata": {},
     "output_type": "display_data"
    }
   ],
   "source": [
    "#####A more convient way\n",
    "apply(results,2,\n",
    "           function (x) sum((x-mean(x))^2) )"
   ]
  },
  {
   "cell_type": "code",
   "execution_count": 13,
   "metadata": {},
   "outputs": [
    {
     "data": {
      "text/html": [
       "315.5"
      ],
      "text/latex": [
       "315.5"
      ],
      "text/markdown": [
       "315.5"
      ],
      "text/plain": [
       "[1] 315.5"
      ]
     },
     "metadata": {},
     "output_type": "display_data"
    }
   ],
   "source": [
    "sum(sapply(list(sand,clay,loam),\n",
    "           function (x) sum((x-mean(x))^2) ))"
   ]
  },
  {
   "cell_type": "code",
   "execution_count": 14,
   "metadata": {},
   "outputs": [
    {
     "data": {
      "text/html": [
       "<style>\n",
       ".dl-inline {width: auto; margin:0; padding: 0}\n",
       ".dl-inline>dt, .dl-inline>dd {float: none; width: auto; display: inline-block}\n",
       ".dl-inline>dt::after {content: \":\\0020\"; padding-right: .5ex}\n",
       ".dl-inline>dt:not(:first-of-type) {padding-left: .5ex}\n",
       "</style><dl class=dl-inline><dt>sand</dt><dd>12.5444444444444</dd><dt>clay</dt><dd>15.3888888888889</dd><dt>loam</dt><dd>7.12222222222222</dd></dl>\n"
      ],
      "text/latex": [
       "\\begin{description*}\n",
       "\\item[sand] 12.5444444444444\n",
       "\\item[clay] 15.3888888888889\n",
       "\\item[loam] 7.12222222222222\n",
       "\\end{description*}\n"
      ],
      "text/markdown": [
       "sand\n",
       ":   12.5444444444444clay\n",
       ":   15.3888888888889loam\n",
       ":   7.12222222222222\n",
       "\n"
      ],
      "text/plain": [
       "     sand      clay      loam \n",
       "12.544444 15.388889  7.122222 "
      ]
     },
     "metadata": {},
     "output_type": "display_data"
    },
    {
     "data": {
      "text/html": [
       "11.6851851851852"
      ],
      "text/latex": [
       "11.6851851851852"
      ],
      "text/markdown": [
       "11.6851851851852"
      ],
      "text/plain": [
       "[1] 11.68519"
      ]
     },
     "metadata": {},
     "output_type": "display_data"
    }
   ],
   "source": [
    "apply(results, 2, var)\n",
    "mean(apply(results, 2, var))"
   ]
  },
  {
   "cell_type": "code",
   "execution_count": 15,
   "metadata": {},
   "outputs": [
    {
     "data": {
      "text/html": [
       "0.0250398697510246"
      ],
      "text/latex": [
       "0.0250398697510246"
      ],
      "text/markdown": [
       "0.0250398697510246"
      ],
      "text/plain": [
       "[1] 0.02503987"
      ]
     },
     "metadata": {},
     "output_type": "display_data"
    }
   ],
   "source": [
    "1-pf(4.24,2,27)"
   ]
  },
  {
   "cell_type": "code",
   "execution_count": 16,
   "metadata": {},
   "outputs": [
    {
     "data": {
      "text/plain": [
       "            Df Sum Sq Mean Sq F value Pr(>F)  \n",
       "soil         2   99.2   49.60   4.245  0.025 *\n",
       "Residuals   27  315.5   11.69                 \n",
       "---\n",
       "Signif. codes:  0 ‘***’ 0.001 ‘**’ 0.01 ‘*’ 0.05 ‘.’ 0.1 ‘ ’ 1"
      ]
     },
     "metadata": {},
     "output_type": "display_data"
    }
   ],
   "source": [
    "summary(aov(yield~soil))"
   ]
  },
  {
   "cell_type": "code",
   "execution_count": 17,
   "metadata": {},
   "outputs": [
    {
     "data": {
      "image/png": "[encoded data removed]",
      "text/plain": [
       "Plot with title “”"
      ]
     },
     "metadata": {
      "image/png": {
       "height": 420,
       "width": 420
      }
     },
     "output_type": "display_data"
    },
    {
     "data": {
      "image/png": "[encoded data removed]",
      "text/plain": [
       "Plot with title “”"
      ]
     },
     "metadata": {
      "image/png": {
       "height": 420,
       "width": 420
      }
     },
     "output_type": "display_data"
    },
    {
     "data": {
      "image/png": "[encoded data removed]",
      "text/plain": [
       "Plot with title “”"
      ]
     },
     "metadata": {
      "image/png": {
       "height": 420,
       "width": 420
      }
     },
     "output_type": "display_data"
    },
    {
     "data": {
      "image/png": "[encoded data removed]",
      "text/plain": [
       "Plot with title “”"
      ]
     },
     "metadata": {
      "image/png": {
       "height": 420,
       "width": 420
      }
     },
     "output_type": "display_data"
    }
   ],
   "source": [
    "## Plots\n",
    "plot(aov(yield~soil), which = 1, cex.lab=0.7, cex.sub=0.7)\n",
    "\n",
    "plot(aov(yield~soil), which = 2, cex.lab=0.7, cex.sub=0.7)\n",
    "\n",
    "plot(aov(yield~soil), which = 3, cex.lab=0.7, cex.sub=0.7)\n",
    "\n",
    "plot(aov(yield~soil), which = 4, cex.lab=0.7, cex.sub=0.7)"
   ]
  },
  {
   "cell_type": "code",
   "execution_count": null,
   "metadata": {},
   "outputs": [],
   "source": []
  }
 ],
 "metadata": {
  "kernelspec": {
   "display_name": "R",
   "language": "R",
   "name": "ir"
  },
  "language_info": {
   "codemirror_mode": "r",
   "file_extension": ".r",
   "mimetype": "text/x-r-source",
   "name": "R",
   "pygments_lexer": "r",
   "version": "3.6.3"
  }
 },
 "nbformat": 4,
 "nbformat_minor": 4
}
